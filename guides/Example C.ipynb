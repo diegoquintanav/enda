{
 "cells": [
  {
   "cell_type": "markdown",
   "id": "vanilla-huntington",
   "metadata": {},
   "source": [
    "# Example C"
   ]
  },
  {
   "cell_type": "code",
   "execution_count": 1,
   "id": "sunrise-local",
   "metadata": {},
   "outputs": [],
   "source": [
    "import enda\n",
    "import pandas as pd\n",
    "import os"
   ]
  },
  {
   "cell_type": "code",
   "execution_count": 2,
   "id": "sustained-vanilla",
   "metadata": {},
   "outputs": [],
   "source": [
    "import enda.ml_backends.sklearn_linreg  \n",
    "from enda.ml_backends.sklearn_linreg import SKLearnLinearRegression\n",
    "import joblib"
   ]
  },
  {
   "cell_type": "code",
   "execution_count": 3,
   "id": "becoming-owner",
   "metadata": {},
   "outputs": [
    {
     "ename": "NameError",
     "evalue": "name 'LinearRegression' is not defined",
     "output_type": "error",
     "traceback": [
      "\u001b[0;31m---------------------------------------------------------------------------\u001b[0m",
      "\u001b[0;31mNameError\u001b[0m                                 Traceback (most recent call last)",
      "\u001b[0;32m<ipython-input-3-0949fa7ba038>\u001b[0m in \u001b[0;36m<module>\u001b[0;34m\u001b[0m\n\u001b[1;32m      1\u001b[0m all_models = {\n\u001b[0;32m----> 2\u001b[0;31m     \u001b[0;34m'lin_reg'\u001b[0m \u001b[0;34m:\u001b[0m \u001b[0mLinearRegression\u001b[0m\u001b[0;34m(\u001b[0m\u001b[0;34m)\u001b[0m\u001b[0;34m,\u001b[0m\u001b[0;34m\u001b[0m\u001b[0;34m\u001b[0m\u001b[0m\n\u001b[0m\u001b[1;32m      3\u001b[0m     'normalized' : enda.models.NormalizedModel(\n\u001b[1;32m      4\u001b[0m         \u001b[0mnormalized_model\u001b[0m \u001b[0;34m=\u001b[0m \u001b[0mLinearRegression\u001b[0m\u001b[0;34m(\u001b[0m\u001b[0;34m)\u001b[0m\u001b[0;34m,\u001b[0m\u001b[0;34m\u001b[0m\u001b[0;34m\u001b[0m\u001b[0m\n\u001b[1;32m      5\u001b[0m         \u001b[0mtarget_col\u001b[0m \u001b[0;34m=\u001b[0m \u001b[0;34m\"slp_kw\"\u001b[0m\u001b[0;34m,\u001b[0m\u001b[0;34m\u001b[0m\u001b[0;34m\u001b[0m\u001b[0m\n",
      "\u001b[0;31mNameError\u001b[0m: name 'LinearRegression' is not defined"
     ]
    }
   ],
   "source": [
    "all_models = {\n",
    "    'lin_reg' : SKLearnLinearRegression(),\n",
    "    'normalized' : enda.models.NormalizedModel(\n",
    "        normalized_model = SKLearnLinearRegression(),\n",
    "        target_col = \"slp_kw\",\n",
    "        normalization_col = \"kva\", #\"subscribed_power_kva\",\n",
    "        columns_to_normalize = [\"num_contracts\"] # [\"estimated_annual_consumption_kwh\", \"num_contracts\"]\n",
    "    ),\n",
    "    'stacking' : enda.models.StackingModel(\n",
    "        base_models = {\n",
    "            \"linreg1\": SKLearnLinearRegression(),\n",
    "            \"linreg2\": SKLearnLinearRegression()\n",
    "        },\n",
    "        stacking_model = SKLearnLinearRegression()\n",
    "    ),\n",
    "    'fallback' : enda.models.ModelWithFallback(\n",
    "        resilient_column = \"tso_forecast_load_mw\",\n",
    "        model_with = LinearRegression(),\n",
    "        model_without = LinearRegression()\n",
    "    )\n",
    "}\n",
    "\n",
    "# combine : Normalized Stacking Model\n",
    "m_stacking = enda.models.StackingModel(\n",
    "    base_models = {\n",
    "        \"linreg1\": SKLearnLinearRegression(),\n",
    "        \"linreg2\": SKLearnLinearRegression()\n",
    "    },\n",
    "    stacking_model = SKLearnLinearRegression()\n",
    ")\n",
    "m = enda.models.NormalizedModel(\n",
    "    normalized_model = m_stacking,\n",
    "    target_col = \"slp_kw\",\n",
    "    normalization_col = \"subscribed_power_kva\",\n",
    "    columns_to_normalize = [\"estimated_annual_consumption_kwh\", \"num_contracts\"]\n",
    ")\n",
    "all_models['norm_stacking'] = m\n",
    "\n",
    "# combine : Stacking Normalized Models with different normalization variables\n",
    "m1 = enda.models.NormalizedModel(\n",
    "    normalized_model = SKLearnLinearRegression(),\n",
    "    target_col = \"slp_kw\",\n",
    "    normalization_col = \"subscribed_power_kva\",\n",
    "    columns_to_normalize = [\"estimated_annual_consumption_kwh\", \"num_contracts\"]\n",
    ")\n",
    "m2 = enda.models.NormalizedModel(\n",
    "    normalized_model = SKLearnLinearRegression(),\n",
    "    target_col = \"slp_kw\",\n",
    "    normalization_col = \"num_contracts\",\n",
    "    columns_to_normalize = [\"estimated_annual_consumption_kwh\", \"subscribed_power_kva\"]\n",
    ")\n",
    "m = enda.models.StackingModel(\n",
    "    base_models = {\n",
    "        \"linreg1\": m1,\n",
    "        \"linreg2\": m2\n",
    "    },\n",
    "    stacking_model = SKLearnLinearRegression()\n",
    ")\n",
    "all_models['stacked_norm'] = m\n",
    "\n",
    "\n",
    "# combine like enercoop for SLP\n",
    "m_stackin_with_rte = enda.models.StackingModel(\n",
    "    base_models = {\n",
    "        \"linreg1\": SKLearnLinearRegression(),\n",
    "        \"linreg2\": SKLearnLinearRegression()\n",
    "    },\n",
    "    stacking_model = SKLearnLinearRegression()\n",
    ")\n",
    "\n",
    "m_norm_with_rte = enda.models.NormalizedModel(\n",
    "    normalized_model = m_stackin_with_rte,\n",
    "    target_col = \"slp_kw\",\n",
    "    normalization_col = \"subscribed_power_kva\",\n",
    "    columns_to_normalize = [\"estimated_annual_consumption_kwh\", \"num_contracts\"]\n",
    ")\n",
    "\n",
    "m_stackin_without_rte = m_stacking = enda.models.StackingModel(\n",
    "    base_models = {\n",
    "        \"linreg1\": SKLearnLinearRegression(),\n",
    "        \"linreg2\": SKLearnLinearRegression()\n",
    "    },\n",
    "    stacking_model = SKLearnLinearRegression()\n",
    ")\n",
    "\n",
    "m_norm_without_rte = enda.models.NormalizedModel(\n",
    "    normalized_model = m_stackin_without_rte,\n",
    "    target_col = \"slp_kw\",\n",
    "    normalization_col = \"subscribed_power_kva\",\n",
    "    columns_to_normalize = [\"estimated_annual_consumption_kwh\", \"num_contracts\"]\n",
    ")\n",
    "\n",
    "m = enda.models.ModelWithFallback(\n",
    "    resilient_column = \"tso_load_forecast_mw\",\n",
    "    model_with = m_norm_with_rte,\n",
    "    model_without = m_norm_without_rte\n",
    ")\n",
    "\n",
    "all_models['enercoop'] = m"
   ]
  },
  {
   "cell_type": "code",
   "execution_count": null,
   "id": "parental-situation",
   "metadata": {},
   "outputs": [],
   "source": []
  }
 ],
 "metadata": {
  "kernelspec": {
   "display_name": "Python 3",
   "language": "python",
   "name": "python3"
  },
  "language_info": {
   "codemirror_mode": {
    "name": "ipython",
    "version": 3
   },
   "file_extension": ".py",
   "mimetype": "text/x-python",
   "name": "python",
   "nbconvert_exporter": "python",
   "pygments_lexer": "ipython3",
   "version": "3.7.6"
  }
 },
 "nbformat": 4,
 "nbformat_minor": 5
}
